{
 "cells": [
  {
   "cell_type": "code",
   "execution_count": 3,
   "id": "a6a38735-c859-4112-9aeb-4a8c63d67974",
   "metadata": {},
   "outputs": [],
   "source": [
    "import math, copy\n",
    "import numpy as np\n",
    "import matplotlib.pyplot as plt"
   ]
  },
  {
   "cell_type": "code",
   "execution_count": 4,
   "id": "6f47a55f-211a-4dfa-8656-ad428bdbea40",
   "metadata": {},
   "outputs": [],
   "source": [
    "\n",
    "def fn(x, w, b):\n",
    "    return w*x + b"
   ]
  },
  {
   "cell_type": "code",
   "execution_count": 5,
   "id": "c7649076-1523-4833-99db-6379cfc49e22",
   "metadata": {},
   "outputs": [],
   "source": [
    "def compute_cost(x, y, w, b):\n",
    "    cost = 0\n",
    "    m = len(x)\n",
    "    for i in range(m):\n",
    "        cost += (fn(x[i], w, b) - y[i])**2\n",
    "    return cost/(2*m)"
   ]
  },
  {
   "cell_type": "code",
   "execution_count": 6,
   "id": "afa71568-4b3a-4e77-b4e1-63a85840aa54",
   "metadata": {},
   "outputs": [],
   "source": [
    "def compute_gradient(x, y, w, b):\n",
    "    m = len(x)\n",
    "    der_w = 0\n",
    "    der_d = 0\n",
    "    for i in range(m):\n",
    "        der_w += (fn(x[i], w, b)-y[i]) * x[i]\n",
    "        der_b += (fn(x[i], w, b)-y[i]) \n",
    "    return der_w/m, der_b/m\n",
    "\n",
    "def gradient_descent(x, y, itr):\n",
    "    pass\n",
    "    "
   ]
  },
  {
   "cell_type": "code",
   "execution_count": null,
   "id": "a2bbcc15-8913-48b2-a852-1a70f9d3aa8a",
   "metadata": {},
   "outputs": [],
   "source": []
  },
  {
   "cell_type": "code",
   "execution_count": 7,
   "id": "f8d48c74-0d1e-402c-8930-374a603b5b3a",
   "metadata": {},
   "outputs": [
    {
     "name": "stdout",
     "output_type": "stream",
     "text": [
      "0.0\n"
     ]
    },
    {
     "data": {
      "image/png": "[encoded data removed]",
      "text/plain": [
       "<Figure size 640x480 with 1 Axes>"
      ]
     },
     "metadata": {},
     "output_type": "display_data"
    }
   ],
   "source": [
    "x = [1.0, 2.0]\n",
    "y = [10, 20]\n",
    "b = 0\n",
    "w = 10\n",
    "cost = compute_cost(x,y, w, b)\n",
    "print(cost)\n",
    "\n",
    "line = np.arange(-1000,1000,1)\n",
    "line = [fn(i, w, b) for i in range(10) ]\n",
    "plt.plot(line)\n",
    "plt.scatter(x,y)\n",
    "plt.show()"
   ]
  },
  {
   "cell_type": "code",
   "execution_count": 8,
   "id": "41160f2a-1731-4b78-91a7-e0c731b5b774",
   "metadata": {},
   "outputs": [
    {
     "name": "stdout",
     "output_type": "stream",
     "text": [
      "[[-10, 500.0], [-9, 451.25], [-8, 405.0], [-7, 361.25], [-6, 320.0], [-5, 281.25], [-4, 245.0], [-3, 211.25], [-2, 180.0], [-1, 151.25], [0, 125.0], [1, 101.25], [2, 80.0], [3, 61.25], [4, 45.0], [5, 31.25], [6, 20.0], [7, 11.25], [8, 5.0], [9, 1.25], [10, 0.0], [11, 1.25], [12, 5.0], [13, 11.25], [14, 20.0], [15, 31.25], [16, 45.0], [17, 61.25], [18, 80.0], [19, 101.25]]\n"
     ]
    }
   ],
   "source": [
    "cost_list = []\n",
    "for i in range(-10, 20, 1):\n",
    "    cost_list.append([i, compute_cost(x, y, i, b)])\n",
    "\n",
    "print(cost_list)\n"
   ]
  },
  {
   "cell_type": "code",
   "execution_count": null,
   "id": "16c33324-69ae-42a4-94c1-a25cfbd444f1",
   "metadata": {},
   "outputs": [],
   "source": []
  }
 ],
 "metadata": {
  "kernelspec": {
   "display_name": "Python 3 (ipykernel)",
   "language": "python",
   "name": "python3"
  },
  "language_info": {
   "codemirror_mode": {
    "name": "ipython",
    "version": 3
   },
   "file_extension": ".py",
   "mimetype": "text/x-python",
   "name": "python",
   "nbconvert_exporter": "python",
   "pygments_lexer": "ipython3",
   "version": "3.10.13"
  }
 },
 "nbformat": 4,
 "nbformat_minor": 5
}
