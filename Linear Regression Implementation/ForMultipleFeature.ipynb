{
 "cells": [
  {
   "cell_type": "code",
   "execution_count": 2,
   "id": "61171902-3852-4f28-9215-b8359fda9e48",
   "metadata": {},
   "outputs": [],
   "source": [
    "import numpy as np\n",
    "import matplotlib.pyplot as plt"
   ]
  },
  {
   "cell_type": "code",
   "execution_count": 3,
   "id": "f99e6f9c-f42c-4fad-b690-41122d6b51e9",
   "metadata": {},
   "outputs": [],
   "source": [
    "def model(x, w, b):  # Our Linear Regression Model i.e: f(x) = x*w + b\n",
    "    pred_value = np.dot(x, w) + b\n",
    "    return pred_value\n",
    "\n",
    "def evaluate_cost(x, y, w, b):  # Evaluating cost for current weights and biases. J(w,b) = 1/2m(sigma(f(x[i])-y[i])^2)\n",
    "    values = (model(x, w, b) - y )**2\n",
    "    c = np.sum(values)\n",
    "    c = c/(2*len(x))\n",
    "    return c"
   ]
  },
  {
   "cell_type": "code",
   "execution_count": 4,
   "id": "7a2381da-da47-4b38-885f-7269f52e984e",
   "metadata": {},
   "outputs": [
    {
     "name": "stdout",
     "output_type": "stream",
     "text": [
      "Cost of the model for initial optimal values of w and b: 1.5578904045996674e-12\n"
     ]
    }
   ],
   "source": [
    "X_train = np.array([[2104, 5, 1, 45], [1416, 3, 2, 40], [852, 2, 1, 35]])\n",
    "y_train = np.array([460, 232, 178])\n",
    "b_init = 785.1811367994083\n",
    "w_init = np.array([ 0.39133535, 18.75376741, -53.36032453, -26.42131618])\n",
    "\n",
    "c = evaluate_cost(X_train, y_train, w_init, b_init)\n",
    "print(f\"Cost of the model for initial optimal values of w and b: {c}\")"
   ]
  },
  {
   "cell_type": "code",
   "execution_count": 33,
   "id": "77b4e743-c7f1-4564-bba0-9bbe4bfd1210",
   "metadata": {},
   "outputs": [],
   "source": [
    "#  Compute gradient for Multiple Parameters\n",
    "def compute_gradient(x, y, w, b):\n",
    "    m = x.shape[0]\n",
    "    model_val = model(x, w, b)\n",
    "    err = model_val - y\n",
    "    w_derivatives = np.dot(err, x)\n",
    "    w_derivatives /= m\n",
    "    b_derivative = np.sum(err) / m\n",
    "    return w_derivatives, b_derivative\n",
    "\n",
    "#  Applying Gradient Descent to find minimum cost model, i.e the values of w,b for which model line will best fit\n",
    "def gradient_descent(x, y, w, b, alpha, itr): \n",
    "    \n",
    "    pass"
   ]
  },
  {
   "cell_type": "code",
   "execution_count": 29,
   "id": "f6338fc4-2609-4147-a073-22947257a21d",
   "metadata": {},
   "outputs": [
    {
     "name": "stdout",
     "output_type": "stream",
     "text": [
      "[-2.72623574e-03 -6.27197255e-06 -2.21745574e-06 -6.92403377e-05]\n"
     ]
    }
   ],
   "source": [
    "compute_gradient(X_train, y_train, w_init, b_init)"
   ]
  },
  {
   "cell_type": "code",
   "execution_count": null,
   "id": "d0851477-c92b-4d90-85b0-3c861a38550d",
   "metadata": {},
   "outputs": [],
   "source": []
  }
 ],
 "metadata": {
  "kernelspec": {
   "display_name": "Python 3 (ipykernel)",
   "language": "python",
   "name": "python3"
  },
  "language_info": {
   "codemirror_mode": {
    "name": "ipython",
    "version": 3
   },
   "file_extension": ".py",
   "mimetype": "text/x-python",
   "name": "python",
   "nbconvert_exporter": "python",
   "pygments_lexer": "ipython3",
   "version": "3.10.13"
  }
 },
 "nbformat": 4,
 "nbformat_minor": 5
}
