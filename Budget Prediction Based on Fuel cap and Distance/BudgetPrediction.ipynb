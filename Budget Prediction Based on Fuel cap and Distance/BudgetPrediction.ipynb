{
 "cells": [
  {
   "cell_type": "code",
   "execution_count": 3,
   "id": "e549fe6f-dc9e-4499-bcf2-13cac57526d2",
   "metadata": {},
   "outputs": [],
   "source": [
    "import numpy as np\n",
    "import matplotlib.pyplot as plt\n",
    "from matplotlib import animation"
   ]
  },
  {
   "cell_type": "code",
   "execution_count": 30,
   "id": "65e534ae-e5d7-4eae-a866-38776838c6d5",
   "metadata": {},
   "outputs": [],
   "source": [
    "x = np.array([\n",
    "    [5, 40],\n",
    "    [8, 82],\n",
    "    [6, 52]\n",
    "], dtype = float)\n",
    "y = np.array([\n",
    "    [15],\n",
    "    [24],\n",
    "    [18]\n",
    "], dtype = float)"
   ]
  },
  {
   "cell_type": "code",
   "execution_count": 32,
   "id": "f6e5a88c-0092-4e20-9c6d-f46260d0be12",
   "metadata": {},
   "outputs": [
    {
     "data": {
      "text/plain": [
       "array([ 8., 82.])"
      ]
     },
     "execution_count": 32,
     "metadata": {},
     "output_type": "execute_result"
    }
   ],
   "source": [
    "np.max(x, axis = 0)"
   ]
  },
  {
   "cell_type": "code",
   "execution_count": 34,
   "id": "961fc9b9-4a7b-4a19-9263-a37b1cafaa35",
   "metadata": {},
   "outputs": [],
   "source": [
    "# Scaling \n",
    "x = x/np.max(x, axis = 0)\n",
    "y = y/max(y)"
   ]
  },
  {
   "cell_type": "code",
   "execution_count": 100,
   "id": "91bdc16a-40a3-40f8-b764-176ba9688e4a",
   "metadata": {},
   "outputs": [],
   "source": [
    "class NeuralNetwork(object):\n",
    "    def __init__(self):\n",
    "        self.input_size = 2\n",
    "        self.hidden_size = 3\n",
    "        self.output_size = 1\n",
    "\n",
    "        self.w1 = np.random.rand(self.input_size, self.hidden_size)  # Random weight initialization\n",
    "        self.w2 = np.random.rand(self.hidden_size, self.output_size)  \n",
    "        # self.w3 = np.random.rand(2, 4)\n",
    "\n",
    "    def sigmoid(self, s):\n",
    "        return 1/(1+np.exp(-s))\n",
    "    \n",
    "    def forward(self, x):\n",
    "        # forward propogation through network\n",
    "        self.z = np.dot(x, self.w1)\n",
    "        self.activation = self.sigmoid(self.z)\n",
    "        self.z2 = np.dot(self.activation, self.z)\n",
    "        return self.sigmoid(self.z2)\n",
    "\n",
    "    def sigmoidPrime(self, s):\n",
    "        return s * (1-s)\n",
    "\n",
    "    def backward(self, x, y, o):\n",
    "        self.o_error = y - o\n",
    "        self.o_delta = self.o_error*self.sigmoidPrime(o)\n",
    "        \n",
    "        self.zerror = self.o_error - \n",
    "        \n",
    "        \n",
    "        \n",
    "        \n",
    "\n",
    "    "
   ]
  },
  {
   "cell_type": "code",
   "execution_count": null,
   "id": "1db55552-8d9f-41c9-bb58-836aa135ce1b",
   "metadata": {},
   "outputs": [],
   "source": []
  },
  {
   "cell_type": "code",
   "execution_count": null,
   "id": "20ec60a2-ec04-4ddc-bc8b-bcf49acc8c79",
   "metadata": {},
   "outputs": [],
   "source": []
  }
 ],
 "metadata": {
  "kernelspec": {
   "display_name": "Python 3 (ipykernel)",
   "language": "python",
   "name": "python3"
  },
  "language_info": {
   "codemirror_mode": {
    "name": "ipython",
    "version": 3
   },
   "file_extension": ".py",
   "mimetype": "text/x-python",
   "name": "python",
   "nbconvert_exporter": "python",
   "pygments_lexer": "ipython3",
   "version": "3.12.2"
  }
 },
 "nbformat": 4,
 "nbformat_minor": 5
}
